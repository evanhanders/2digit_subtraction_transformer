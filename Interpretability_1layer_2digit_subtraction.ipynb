{
 "cells": [
  {
   "cell_type": "markdown",
   "metadata": {
    "id": "81EXlcSZMlEP"
   },
   "source": [
    "# Setup"
   ]
  },
  {
   "cell_type": "code",
   "execution_count": 1,
   "metadata": {
    "colab": {
     "base_uri": "https://localhost:8080/"
    },
    "id": "zt-t2ubYI509",
    "outputId": "a00cb0e7-2df5-4c9c-acbf-81d0490526ea"
   },
   "outputs": [],
   "source": [
    "try:\n",
    "    import google.colab # type: ignore\n",
    "    IN_COLAB = True\n",
    "except:\n",
    "    IN_COLAB = False\n",
    "\n",
    "if IN_COLAB:\n",
    "    from google.colab import drive\n",
    "    drive.mount('/content/drive')"
   ]
  },
  {
   "cell_type": "code",
   "execution_count": 2,
   "metadata": {
    "colab": {
     "base_uri": "https://localhost:8080/"
    },
    "id": "vpg96AowJB3M",
    "outputId": "8ff76df9-5e44-4b7b-86ae-2d89f0670327"
   },
   "outputs": [],
   "source": [
    "if IN_COLAB:\n",
    "    !pip install -q scikit-learn\n",
    "    !pip install -q einops jaxtyping\n",
    "    !pip install -q transformers tokenizers\n",
    "    !pip install -q transformer_lens circuitsvis"
   ]
  },
  {
   "cell_type": "code",
   "execution_count": 3,
   "metadata": {
    "colab": {
     "base_uri": "https://localhost:8080/"
    },
    "id": "j045Ls00JIX4",
    "outputId": "cca66a00-d195-404f-a449-ea38c306ce5a"
   },
   "outputs": [
    {
     "name": "stdout",
     "output_type": "stream",
     "text": [
      "using device:  cpu\n",
      "rootdir is:  .\n"
     ]
    }
   ],
   "source": [
    "from dataclasses import dataclass\n",
    "import random\n",
    "import gc\n",
    "from pathlib import Path\n",
    "import functools\n",
    "\n",
    "from sklearn.decomposition import PCA\n",
    "from sklearn.linear_model import LinearRegression\n",
    "\n",
    "import torch as t\n",
    "import numpy as np\n",
    "import torch.nn as nn\n",
    "import torch.nn.functional as F\n",
    "\n",
    "import einops\n",
    "from tqdm.notebook import tqdm #progress bars\n",
    "from typing import Tuple, List, Optional, Dict\n",
    "from jaxtyping import Float, Int, Bool\n",
    "from torch import Tensor\n",
    "\n",
    "from transformer_lens.hook_points import HookPoint\n",
    "from transformer_lens import utils, HookedTransformer, HookedTransformerConfig, FactoredMatrix, ActivationCache\n",
    "from transformers import PreTrainedTokenizer, PreTrainedTokenizerFast\n",
    "\n",
    "import matplotlib.pyplot as plt\n",
    "%matplotlib inline\n",
    "from ipywidgets import interact, interactive, fixed, interact_manual\n",
    "import ipywidgets as widgets\n",
    "from IPython.display import clear_output\n",
    "import circuitsvis as cv\n",
    "\n",
    "import h5py\n",
    "import palettable\n",
    "\n",
    "device = t.device(\"cuda\" if t.cuda.is_available() else \"cpu\")\n",
    "if IN_COLAB:\n",
    "    rootdir=Path('/content/drive/MyDrive/AI/plusminus/')\n",
    "    traindir = rootdir/'trained_models/'\n",
    "else:\n",
    "    rootdir=Path('./')\n",
    "    traindir=rootdir/'training_data/'\n",
    "figdir = rootdir/'figures/'\n",
    "print('using device: ', device)\n",
    "print('rootdir is: ', rootdir)"
   ]
  },
  {
   "cell_type": "markdown",
   "metadata": {
    "id": "FX8gQrS4MoGn"
   },
   "source": [
    "# Tokenizer"
   ]
  },
  {
   "cell_type": "code",
   "execution_count": 4,
   "metadata": {
    "id": "gJwC6Fj0MDEo"
   },
   "outputs": [],
   "source": [
    "tokenizer = PreTrainedTokenizerFast(tokenizer_file=str(traindir/'tokenizer_2digit.json'), add_bos_token=True, name_or_path='2digit')\n",
    "vocab = tokenizer.get_vocab()"
   ]
  },
  {
   "cell_type": "markdown",
   "metadata": {
    "id": "LZTH1xMjOKYN"
   },
   "source": [
    "# Model"
   ]
  },
  {
   "cell_type": "code",
   "execution_count": 5,
   "metadata": {
    "id": "Mv_9Qq0GMpsM"
   },
   "outputs": [],
   "source": [
    "@dataclass\n",
    "class Config():\n",
    "  d_vocab: int = len(tokenizer.get_vocab().keys())\n",
    "  d_model: int = len(tokenizer.get_vocab().keys())\n",
    "  d_mlp: int = 72\n",
    "  n_heads: int = 8\n",
    "  d_head: int = 18\n",
    "  n_ctx: int = 6 #(N)(-)(N)(=)(+/-)(N)\n",
    "  n_layers: int = 1\n",
    "\n",
    "def build_hooked_transformer(cfg: Config, attn_only=False, one_hot_encode=True, norm_type='LN', **kwargs):\n",
    "\n",
    "    hkconfig = HookedTransformerConfig(\n",
    "        n_layers = cfg.n_layers,\n",
    "        d_model = cfg.d_model,\n",
    "        n_ctx = cfg.n_ctx,\n",
    "        d_head = cfg.d_head,\n",
    "        n_heads = cfg.n_heads,\n",
    "        act_fn = 'relu',\n",
    "        attn_only=attn_only,\n",
    "        normalization_type=norm_type,\n",
    "        **kwargs\n",
    "    )\n",
    "    model =  HookedTransformer(cfg = hkconfig, tokenizer=tokenizer)\n",
    "\n",
    "    if attn_only:\n",
    "        #Remove biases from attention heads for direct comparison with math framework paper.\n",
    "        for layer in model.blocks:\n",
    "            layer.attn.b_K.requires_grad = False\n",
    "            layer.attn.b_O.requires_grad = False\n",
    "            layer.attn.b_Q.requires_grad = False\n",
    "            layer.attn.b_V.requires_grad = False\n",
    "\n",
    "    if one_hot_encode:\n",
    "        if cfg.d_model != len(tokenizer.get_vocab().keys()):\n",
    "            raise ValueError(\"d_model != d_vocab, but that is required for one-hot encoding.\")\n",
    "        model.embed.W_E.requires_grad = False\n",
    "        model.embed.W_E[:] = t.eye(cfg.d_model, cfg.d_model)\n",
    "        model.unembed.W_U.requires_grad = False\n",
    "        model.unembed.b_U.requires_grad = False\n",
    "        model.unembed.W_U[:] = t.eye(cfg.d_model, cfg.d_model)\n",
    "    return model"
   ]
  },
  {
   "cell_type": "code",
   "execution_count": 6,
   "metadata": {
    "colab": {
     "base_uri": "https://localhost:8080/"
    },
    "id": "CPB7FXAzzNwS",
    "outputId": "be48ee81-7deb-4d63-eb4e-17e77f5a9266"
   },
   "outputs": [
    {
     "name": "stdout",
     "output_type": "stream",
     "text": [
      "Moving model to device:  cpu\n"
     ]
    },
    {
     "data": {
      "text/plain": [
       "<All keys matched successfully>"
      ]
     },
     "execution_count": 6,
     "metadata": {},
     "output_type": "execute_result"
    }
   ],
   "source": [
    "# Model Config\n",
    "d_vocab = len(tokenizer.get_vocab().keys())\n",
    "d_model = 128\n",
    "n_head = 4\n",
    "d_head = d_model // n_head\n",
    "d_mlp  = 4 * d_model\n",
    "n_layers = 1\n",
    "attn_only = False\n",
    "one_hot_encode = False\n",
    "cfg = Config(n_layers=n_layers, d_model=d_model, n_heads=n_head, d_mlp=d_mlp, d_head=d_head)\n",
    "\n",
    "# Load Model\n",
    "tfm = build_hooked_transformer(cfg, attn_only=attn_only, one_hot_encode=one_hot_encode, norm_type=None)\n",
    "tfm.to(device)\n",
    "tokenizer = tfm.tokenizer\n",
    "filename = traindir/'mlp_2digit_subtraction_nlayer1_nheads4_dmodel128_dhead32_seed12466689936998274052.pt'\n",
    "tfm.load_state_dict(t.load(filename, map_location=device))"
   ]
  },
  {
   "cell_type": "code",
   "execution_count": 7,
   "metadata": {},
   "outputs": [
    {
     "name": "stdout",
     "output_type": "stream",
     "text": [
      "W_O   (4, 32, 128)\n",
      "W_K   (4, 128, 32)\n",
      "W_Q   (4, 128, 32)\n",
      "W_V   (4, 128, 32)\n",
      "W_in  (128, 512)\n",
      "W_out (512, 128)\n",
      "W_pos (6, 128)\n",
      "W_E   (103, 128)\n",
      "W_U   (128, 103)\n"
     ]
    }
   ],
   "source": [
    "# It's good to define helper variables\n",
    "W_O = tfm.W_O[0]\n",
    "W_K = tfm.W_K[0]\n",
    "W_Q = tfm.W_Q[0]\n",
    "W_V = tfm.W_V[0]\n",
    "W_in = tfm.W_in[0]\n",
    "W_out = tfm.W_out[0]\n",
    "W_pos = tfm.W_pos\n",
    "W_E = tfm.W_E\n",
    "W_U = tfm.W_U\n",
    "\n",
    "print('W_O  ', tuple(W_O.shape))\n",
    "print('W_K  ', tuple(W_K.shape))\n",
    "print('W_Q  ', tuple(W_Q.shape))\n",
    "print('W_V  ', tuple(W_V.shape))\n",
    "print('W_in ', tuple(W_in.shape))\n",
    "print('W_out', tuple(W_out.shape))\n",
    "print('W_pos', tuple(W_pos.shape))\n",
    "print('W_E  ', tuple(W_E.shape))\n",
    "print('W_U  ', tuple(W_U.shape))"
   ]
  },
  {
   "cell_type": "code",
   "execution_count": 8,
   "metadata": {},
   "outputs": [
    {
     "name": "stdout",
     "output_type": "stream",
     "text": [
      "tensor([[ 0.9560,  0.0467,  0.0084,  ..., -0.0189, -0.0045, -0.0137],\n",
      "        [ 0.0467,  0.6950,  0.0693,  ..., -0.0012,  0.0206,  0.0223],\n",
      "        [ 0.0084,  0.0693,  0.9281,  ...,  0.0232,  0.0050,  0.0049],\n",
      "        ...,\n",
      "        [-0.0189, -0.0012,  0.0232,  ...,  0.9425,  0.0053, -0.0093],\n",
      "        [-0.0045,  0.0206,  0.0050,  ...,  0.0053,  0.9863, -0.0031],\n",
      "        [-0.0137,  0.0223,  0.0049,  ..., -0.0093, -0.0031,  0.9768]],\n",
      "       grad_fn=<MmBackward0>)\n"
     ]
    }
   ],
   "source": [
    "W_E_inv = t.Tensor(np.linalg.pinv(W_E.detach().numpy()))\n",
    "print(W_E_inv@W_E)"
   ]
  },
  {
   "cell_type": "markdown",
   "metadata": {
    "id": "snPTAhkQP8ka"
   },
   "source": [
    "# Data"
   ]
  },
  {
   "cell_type": "code",
   "execution_count": 9,
   "metadata": {
    "colab": {
     "base_uri": "https://localhost:8080/"
    },
    "id": "qWLguK6cP19T",
    "outputId": "c48bb921-d59d-4db7-e52f-476cdf02e89d"
   },
   "outputs": [
    {
     "name": "stdout",
     "output_type": "stream",
     "text": [
      "['0-0=+0', '0-1=-1', '0-2=-2', '0-3=-3', '0-4=-4', '0-5=-5', '0-6=-6', '0-7=-7', '0-8=-8', '0-9=-9']\n",
      "['0-0=+0', '3-33=-30', '6-66=-60', '9-99=-90', '13-32=-19', '16-65=-49', '19-98=-79', '23-31=-8', '26-64=-38', '29-97=-68', '33-30=+3', '36-63=-27', '39-96=-57', '43-29=+14', '46-62=-16', '49-95=-46', '53-28=+25', '56-61=-5', '59-94=-35', '63-27=+36', '66-60=+6', '69-93=-24', '73-26=+47', '76-59=+17', '79-92=-13', '83-25=+58', '86-58=+28', '89-91=-2', '93-24=+69', '96-57=+39', '99-90=+9'] tensor([[  0, 101,   0, 102, 100,   0],\n",
      "        [  3, 101,  33, 102, 101,  30],\n",
      "        [  6, 101,  66, 102, 101,  60],\n",
      "        [  9, 101,  99, 102, 101,  90],\n",
      "        [ 13, 101,  32, 102, 101,  19],\n",
      "        [ 16, 101,  65, 102, 101,  49],\n",
      "        [ 19, 101,  98, 102, 101,  79],\n",
      "        [ 23, 101,  31, 102, 101,   8],\n",
      "        [ 26, 101,  64, 102, 101,  38],\n",
      "        [ 29, 101,  97, 102, 101,  68],\n",
      "        [ 33, 101,  30, 102, 100,   3],\n",
      "        [ 36, 101,  63, 102, 101,  27],\n",
      "        [ 39, 101,  96, 102, 101,  57],\n",
      "        [ 43, 101,  29, 102, 100,  14],\n",
      "        [ 46, 101,  62, 102, 101,  16],\n",
      "        [ 49, 101,  95, 102, 101,  46],\n",
      "        [ 53, 101,  28, 102, 100,  25],\n",
      "        [ 56, 101,  61, 102, 101,   5],\n",
      "        [ 59, 101,  94, 102, 101,  35],\n",
      "        [ 63, 101,  27, 102, 100,  36],\n",
      "        [ 66, 101,  60, 102, 100,   6],\n",
      "        [ 69, 101,  93, 102, 101,  24],\n",
      "        [ 73, 101,  26, 102, 100,  47],\n",
      "        [ 76, 101,  59, 102, 100,  17],\n",
      "        [ 79, 101,  92, 102, 101,  13],\n",
      "        [ 83, 101,  25, 102, 100,  58],\n",
      "        [ 86, 101,  58, 102, 100,  28],\n",
      "        [ 89, 101,  91, 102, 101,   2],\n",
      "        [ 93, 101,  24, 102, 100,  69],\n",
      "        [ 96, 101,  57, 102, 100,  39],\n",
      "        [ 99, 101,  90, 102, 100,   9]])\n"
     ]
    }
   ],
   "source": [
    "class DataHolder:\n",
    "\n",
    "    def __init__(self, train_frac=0.3, batch_size=128):\n",
    "\n",
    "        data = self.get_dataset()\n",
    "        self.strs = self.build_strings(data)\n",
    "        self.tok = self.encode(self.strs)\n",
    "\n",
    "    def get_dataset(self):\n",
    "        data = t.Tensor([(i,j) for i in range(100) for j in range(100)])\n",
    "        results = data[:,:1] - data[:,-1:]\n",
    "        return t.cat((data, results), dim=1).to(t.int64)\n",
    "\n",
    "    def build_strings(self, nums: Tensor):\n",
    "        iterable = zip(nums[:,0], nums[:,1], nums[:,2])\n",
    "        data = [f'{n1}-{n2}={res:+d}' for n1,n2,res in iterable]\n",
    "        return data\n",
    "\n",
    "    def encode(self, str_data):\n",
    "        return t.Tensor(tokenizer.batch_encode_plus(str_data).input_ids).to(t.int64)\n",
    "\n",
    "data = DataHolder()\n",
    "print(data.strs[:10])\n",
    "print(data.strs[::333], data.tok[::333])"
   ]
  },
  {
   "cell_type": "markdown",
   "metadata": {},
   "source": [
    "# Baseline model performance"
   ]
  },
  {
   "cell_type": "code",
   "execution_count": 10,
   "metadata": {},
   "outputs": [],
   "source": [
    "def get_accuracy(\n",
    "    logits: Float[Tensor, \"batch posn d_vocab\"],\n",
    "    tokens: Int[Tensor, \"batch posn\"],\n",
    "    meandim: int = None\n",
    ") -> Float[Tensor, \"batch posn-1\"]:\n",
    "\n",
    "    logit_preds = logits[:, 3:-1, :].argmax(dim=-1) #5-digit\n",
    "    acc = (logit_preds == tokens[:, 4:]).to(t.float)\n",
    "    return acc.mean(dim=meandim)\n",
    "\n",
    "def get_loss(\n",
    "    logits: Float[Tensor, \"batch posn d_vocab\"],\n",
    "    tokens: Int[Tensor, \"batch posn\"],\n",
    "    meandim: int = None\n",
    ") -> Float[Tensor, \"batch posn-1\"]:\n",
    "\n",
    "    log_probs = logits.log_softmax(dim=-1)\n",
    "    # Get logprobs the first seq_len-1 predictions (so we can compare them with the actual next tokens)\n",
    "    log_probs_for_tokens = log_probs[:, 3:-1].gather(dim=-1, index=tokens[:, 4:].unsqueeze(-1)).squeeze(-1) #5-digit\n",
    "    return -log_probs_for_tokens.mean(dim=meandim)\n"
   ]
  },
  {
   "cell_type": "code",
   "execution_count": 11,
   "metadata": {},
   "outputs": [
    {
     "name": "stdout",
     "output_type": "stream",
     "text": [
      "Original loss: [0.06826339 0.01807367], Original acc: [98.549995 99.94    ]%\n"
     ]
    }
   ],
   "source": [
    "original_logits, cache = tfm.run_with_cache(data.tok)\n",
    "# Final 2 positions: (+/-) and number. Also remove the logits for `=`\n",
    "original_loss = get_loss(original_logits, data.tok, meandim=0) #loss by digit\n",
    "original_acc  = get_accuracy(original_logits, data.tok, meandim=0)\n",
    "original_logits = original_logits[:, -2:, :-1]\n",
    "print(f\"Original loss: {original_loss.detach().numpy()}, Original acc: {100*original_acc.detach().numpy()}%\")"
   ]
  },
  {
   "cell_type": "code",
   "execution_count": 12,
   "metadata": {},
   "outputs": [
    {
     "name": "stdout",
     "output_type": "stream",
     "text": [
      "Approximating positional embed]\n",
      "Original loss: [0.06826339 0.01807367], Original acc: [98.549995 99.94    ]%\n",
      "Ablated loss: [0.06848554 0.01810083], Ablated acc: [98.549995 99.94    ]%\n"
     ]
    }
   ],
   "source": [
    "def approx_posembed_hook(\n",
    "    embedding: Float[Tensor, \"batch seq d_model\"],\n",
    "    hook: HookPoint,\n",
    ") -> Float[Tensor, \"batch seq d_model\"]:\n",
    "    embedding[:,:,:] = (einops.einsum(W_E_inv, W_E, W_pos, 'model vocab, vocab imodel, seq imodel -> seq model'))[None,:]\n",
    "\n",
    "\n",
    "ablated_logits = tfm.run_with_hooks(data.tok, fwd_hooks=[\n",
    "                (utils.get_act_name(\"pos_embed\"), approx_posembed_hook)\n",
    "            ])\n",
    "ablated_loss = get_loss(ablated_logits, data.tok, meandim=0) #loss by digit\n",
    "ablated_acc  = get_accuracy(ablated_logits, data.tok, meandim=0)\n",
    "\n",
    "print('Approximating positional embed]')\n",
    "print(f\"Original loss: {original_loss.detach().numpy()}, Original acc: {100*original_acc.detach().numpy()}%\")\n",
    "print(f\"Ablated loss: {ablated_loss.detach().numpy()}, Ablated acc: {100*ablated_acc.detach().numpy()}%\")\n"
   ]
  },
  {
   "cell_type": "markdown",
   "metadata": {},
   "source": [
    "# Training dynamics"
   ]
  },
  {
   "cell_type": "code",
   "execution_count": 13,
   "metadata": {},
   "outputs": [],
   "source": [
    "with h5py.File(traindir/'dynamics_mlp_2digit_subtraction_nlayer1_nheads4_dmodel128_dhead32_seed12466689936998274052.h5', 'r') as f:\n",
    "    model_seed = f['model_seed'][()]\n",
    "    data_seed = f['data_seed'][()]\n",
    "    iters = f['iters'][()]\n",
    "    train_losses = f['train_losses'][()]\n",
    "    valid_losses = f['valid_losses'][()]\n",
    "    train_accuracies = f['train_accuracies'][()]\n",
    "    valid_accuracies = f['valid_accuracies'][()]"
   ]
  },
  {
   "cell_type": "code",
   "execution_count": 14,
   "metadata": {},
   "outputs": [
    {
     "data": {
      "image/png": "[encoded data removed]",
      "text/plain": [
       "<Figure size 1200x600 with 4 Axes>"
      ]
     },
     "metadata": {},
     "output_type": "display_data"
    }
   ],
   "source": [
    "fig, axs = plt.subplots(2,2, figsize=(12, 6))\n",
    "for i in range(2):\n",
    "    for j in range(2):\n",
    "        axs[i][j].set_prop_cycle('color', palettable.colorbrewer.qualitative.Dark2_8.mpl_colors)\n",
    "\n",
    "axs[0][0].plot(iters, train_losses, label='train')\n",
    "axs[0][0].plot(iters, valid_losses, label='valid')\n",
    "axs[1][0].semilogy(iters, train_losses)\n",
    "axs[1][0].semilogy(iters, valid_losses)\n",
    "axs[0][0].set_ylabel('loss')\n",
    "axs[1][0].set_ylabel('loss')\n",
    "axs[0][0].legend()\n",
    "\n",
    "axs[0][1].plot(iters, 1-train_accuracies)\n",
    "axs[0][1].plot(iters, 1-valid_accuracies)\n",
    "axs[1][1].semilogy(iters, 1-train_accuracies)\n",
    "axs[1][1].semilogy(iters, 1-valid_accuracies)\n",
    "axs[0][1].set_ylabel('1 - accuracy')\n",
    "axs[1][1].set_ylabel('1 - accuracy')\n",
    "\n",
    "axs[1][0].set_xlabel('epoch')\n",
    "axs[1][1].set_xlabel('epoch')\n",
    "\n",
    "fig.savefig(figdir/'training_dynamics.png', dpi=300, bbox_inches='tight')"
   ]
  },
  {
   "cell_type": "markdown",
   "metadata": {},
   "source": [
    "# Matrix Periodicity"
   ]
  },
  {
   "cell_type": "code",
   "execution_count": null,
   "metadata": {},
   "outputs": [
    {
     "name": "stderr",
     "output_type": "stream",
     "text": [
      "<>:18: SyntaxWarning: invalid escape sequence '\\p'\n",
      "<>:19: SyntaxWarning: invalid escape sequence '\\p'\n",
      "<>:18: SyntaxWarning: invalid escape sequence '\\p'\n",
      "<>:19: SyntaxWarning: invalid escape sequence '\\p'\n",
      "/var/folders/ry/qny1f95136l2lpppg_d78n6c0000gq/T/ipykernel_27558/3825337877.py:18: SyntaxWarning: invalid escape sequence '\\p'\n",
      "  axs[0].text(0.98, 0.98, f'Embed ($\\pm${W_E.abs().max().item()/2:.3f})', ha='right', va='top', bbox=bbox_props, transform=axs[0].transAxes)\n",
      "/var/folders/ry/qny1f95136l2lpppg_d78n6c0000gq/T/ipykernel_27558/3825337877.py:19: SyntaxWarning: invalid escape sequence '\\p'\n",
      "  axs[1].text(0.98, 0.98, f'Unembed ($\\pm${W_U.abs().max().item():.3f}', ha='right', va='top', bbox=bbox_props, transform=axs[1].transAxes)\n"
     ]
    }
   ],
   "source": [
    "\n",
    "fig, axs = plt.subplots(1,2, figsize=(14, 7))\n",
    "axs[0].imshow(W_E.detach().numpy(), cmap='RdBu_r', vmax=W_E.abs().max().item()/2, vmin=-W_E.abs().max().item()/2, rasterized=True)\n",
    "axs[0].axhline(99.5, c='k', lw=0.5)\n",
    "axs[0].set_ylabel('d_vocab')\n",
    "axs[0].set_xlabel('d_model')\n",
    "axs[0].set_yticks(range(d_vocab));\n",
    "axs[0].set_yticklabels(vocab, fontsize=3.5);\n",
    "\n",
    "axs[1].imshow(tfm.W_U.detach().numpy(), cmap='RdBu_r', vmax=W_U.abs().max().item(), vmin=-W_U.abs().max().item(), rasterized=True)\n",
    "axs[1].axvline(99.5, c='k', lw=0.5)\n",
    "axs[1].set_xlabel('d_vocab')\n",
    "axs[1].set_ylabel('d_model')\n",
    "axs[1].set_xticks(range(d_vocab));\n",
    "axs[1].set_xticklabels(vocab, rotation='vertical', fontsize=3.5);\n",
    "\n",
    "\n",
    "bbox_props = dict(boxstyle=\"round\", fc=\"w\", ec=\"0.5\", alpha=0.9)\n",
    "axs[0].text(0.98, 0.98, f'Embed ($\\pm${W_E.abs().max().item()/2:.3f})', ha='right', va='top', bbox=bbox_props, transform=axs[0].transAxes)\n",
    "axs[1].text(0.98, 0.98, f'Unembed ($\\pm${W_U.abs().max().item():.3f}', ha='right', va='top', bbox=bbox_props, transform=axs[1].transAxes)\n",
    "fig.savefig(figdir/'embedding_matrices.png', dpi=300, bbox_inches='tight')"
   ]
  },
  {
   "cell_type": "code",
   "execution_count": null,
   "metadata": {},
   "outputs": [],
   "source": [
    "fig, ax = plt.subplots(1,1, figsize=(8, 4))\n",
    "ax.set_prop_cycle('color', palettable.colorbrewer.qualitative.Dark2_8.mpl_colors)\n",
    "\n",
    "freqs = np.fft.fftfreq(100)\n",
    "fft = np.fft.fft(tfm.W_E.detach().cpu().numpy()[:100,:], axis=0)\n",
    "power = np.conj(fft)*fft\n",
    "plt.semilogy(freqs[freqs >=0], np.mean(power, axis=1)[freqs >=0], label='embed')\n",
    "\n",
    "fft = np.fft.fft(tfm.W_U.detach().cpu().numpy()[:,:100], axis=1)\n",
    "power = np.conj(fft)*fft\n",
    "plt.semilogy(freqs[freqs >=0], np.mean(power, axis=0)[freqs >=0], label='unembed')\n",
    "plt.xlabel('frequency')\n",
    "plt.ylabel('power')\n",
    "plt.xlim(-0.05, 0.55)\n",
    "\n",
    "plt.axvline(freqs[freqs >= 0][1], c='k', lw=0.5)\n",
    "plt.axvline(freqs[freqs >= 0][-2], c='k', lw=0.5)\n",
    "plt.axvline(freqs[freqs >= 0][-11], c='k', lw=0.5)\n",
    "plt.axvline(freqs[freqs >= 0][-17], c='k', lw=0.5)\n",
    "\n",
    "bbox_props = dict(boxstyle=\"round\", fc=\"w\", ec=\"0.5\", alpha=0.9)\n",
    "ax.text(freqs[freqs >= 0][1],   2e-2, f'{freqs[freqs >= 0][1]:.2f}', ha='center', bbox=bbox_props)\n",
    "ax.text(freqs[freqs >= 0][-2],  2e-2, f'{freqs[freqs >= 0][-2]:.2f}', ha='center', bbox=bbox_props)\n",
    "ax.text(freqs[freqs >= 0][-11], 2e-2, f'{freqs[freqs >= 0][-11]:.2f}', ha='center', bbox=bbox_props)\n",
    "ax.text(freqs[freqs >= 0][-17], 2e-2, f'{freqs[freqs >= 0][-17]:.2f}', ha='center', bbox=bbox_props)\n",
    "\n",
    "plt.legend(loc='center left', bbox_to_anchor=(1, 0.5))\n",
    "fig.savefig(figdir/'embed_unembed_power.png', dpi=300, bbox_inches='tight')"
   ]
  },
  {
   "cell_type": "markdown",
   "metadata": {},
   "source": [
    "# Residual stream spectra"
   ]
  },
  {
   "cell_type": "markdown",
   "metadata": {},
   "source": [
    "## After Embedding"
   ]
  },
  {
   "cell_type": "code",
   "execution_count": null,
   "metadata": {},
   "outputs": [],
   "source": [
    "print(cache)\n",
    "resid_pre = cache['resid_pre', 0]\n",
    "resid_pre_sq = einops.rearrange(resid_pre, \"(x y) seq d_model  -> x y seq d_model\", x=100)"
   ]
  },
  {
   "cell_type": "code",
   "execution_count": null,
   "metadata": {},
   "outputs": [],
   "source": [
    "def freq2d_ablation_hook(\n",
    "    residual: Float[Tensor, \"batch seq d_model\"],\n",
    "    hook: HookPoint\n",
    ") -> Float[Tensor, \"batch seq d_mlp\"]:\n",
    "    \n",
    "    residual_sq = einops.rearrange(residual[:,:], \"(x y) seq d_mlp -> x y seq d_mlp\", x=100)\n",
    "    ft = np.fft.fft2(residual_sq.detach().numpy(), axes=[0,1])\n",
    "    new_ft = np.zeros_like(ft)\n",
    "    new_ft[0,:,:] = ft[0,:,:]\n",
    "    new_ft[:,0,:] = ft[:,0,:]\n",
    "    residual_sq = np.fft.ifft2(new_ft, axes=[0,1]).real\n",
    "    residual_sq = t.Tensor(residual_sq)\n",
    "    residual[:] = einops.rearrange(residual_sq, \"x y seq d_mlp -> (x y) seq d_mlp\")\n",
    "\n",
    "\n",
    "ablate_freqs = functools.partial(freq2d_ablation_hook)\n",
    "ablated_logits = tfm.run_with_hooks(data.tok, fwd_hooks=[\n",
    "                (utils.get_act_name(\"blocks.0.hook_resid_pre\"), ablate_freqs)\n",
    "            ])\n",
    "ablated_loss = get_loss(ablated_logits, data.tok, meandim=0) #loss by digit\n",
    "ablated_acc  = get_accuracy(ablated_logits, data.tok, meandim=0)\n",
    "\n",
    "print('Ablating seq_ind 2d frequencies')\n",
    "print(f\"Original loss: {original_loss.detach().numpy()}, Original acc: {100*original_acc.detach().numpy()}%\")\n",
    "print(f\"Ablated loss: {ablated_loss.detach().numpy()}, Ablated acc: {100*ablated_acc.detach().numpy()}%\")"
   ]
  },
  {
   "cell_type": "markdown",
   "metadata": {},
   "source": [
    "## After Attention"
   ]
  },
  {
   "cell_type": "code",
   "execution_count": null,
   "metadata": {},
   "outputs": [],
   "source": [
    "print(cache)\n",
    "resid_mid = cache['resid_mid', 0]\n",
    "resid_mid_sq = einops.rearrange(resid_mid, \"(x y) seq d_model  -> x y seq d_model\", x=100)"
   ]
  },
  {
   "cell_type": "code",
   "execution_count": null,
   "metadata": {
    "scrolled": true
   },
   "outputs": [],
   "source": [
    "def freq2d_ablation_hook(\n",
    "    residual: Float[Tensor, \"batch seq d_model\"],\n",
    "    hook: HookPoint\n",
    ") -> Float[Tensor, \"batch seq d_mlp\"]:\n",
    "    \n",
    "    residual_sq = einops.rearrange(residual[:,:], \"(x y) seq d_mlp -> x y seq d_mlp\", x=100)\n",
    "    ft = np.fft.fft2(residual_sq.detach().numpy(), axes=[0,1])\n",
    "    new_ft = np.zeros_like(ft)\n",
    "    new_ft[0,:,:] = ft[0,:,:]\n",
    "    new_ft[:,0,:] = ft[:,0,:]\n",
    "    residual_sq = np.fft.ifft2(new_ft, axes=[0,1]).real\n",
    "    residual_sq = t.Tensor(residual_sq)\n",
    "    residual[:] = einops.rearrange(residual_sq, \"x y seq d_mlp -> (x y) seq d_mlp\")\n",
    "\n",
    "\n",
    "ablate_freqs = functools.partial(freq2d_ablation_hook)\n",
    "ablated_logits = tfm.run_with_hooks(data.tok, fwd_hooks=[\n",
    "                (utils.get_act_name(\"blocks.0.hook_resid_mid\"), ablate_freqs)\n",
    "            ])\n",
    "ablated_loss = get_loss(ablated_logits, data.tok, meandim=0) #loss by digit\n",
    "ablated_acc  = get_accuracy(ablated_logits, data.tok, meandim=0)\n",
    "\n",
    "print('Ablating seq_ind 2d frequencies')\n",
    "print(f\"Original loss: {original_loss.detach().numpy()}, Original acc: {100*original_acc.detach().numpy()}%\")\n",
    "print(f\"Ablated loss: {ablated_loss.detach().numpy()}, Ablated acc: {100*ablated_acc.detach().numpy()}%\")"
   ]
  },
  {
   "cell_type": "markdown",
   "metadata": {},
   "source": [
    "## After MLP"
   ]
  },
  {
   "cell_type": "code",
   "execution_count": null,
   "metadata": {},
   "outputs": [],
   "source": [
    "print(cache)\n",
    "resid_post = cache['resid_post', 0]\n",
    "resid_post_sq = einops.rearrange(resid_post, \"(x y) seq d_model  -> x y seq d_model\", x=100)"
   ]
  },
  {
   "cell_type": "code",
   "execution_count": null,
   "metadata": {
    "scrolled": true
   },
   "outputs": [],
   "source": [
    "def freq2d_ablation_hook(\n",
    "    residual: Float[Tensor, \"batch seq d_model\"],\n",
    "    hook: HookPoint\n",
    ") -> Float[Tensor, \"batch seq d_mlp\"]:\n",
    "    \n",
    "    residual_sq = einops.rearrange(residual[:,:], \"(x y) seq d_mlp -> x y seq d_mlp\", x=100)\n",
    "    ft = np.fft.fft2(residual_sq.detach().numpy(), axes=[0,1])\n",
    "    new_ft = np.zeros_like(ft)\n",
    "    indices_to_keep = [0, 1, 2, 3, 4, 5, 6, 7, 8, 9, 10]\n",
    "    for indx in indices_to_keep:\n",
    "        new_ft[indx,:,:] = ft[indx,:,:]\n",
    "        new_ft[:,indx,:] = ft[:,indx,:]\n",
    "        if indx != 0:\n",
    "            new_ft[-indx,:,:] = ft[-indx,:,:]\n",
    "            new_ft[:,-indx,:] = ft[:,-indx,:]\n",
    "    residual_sq = np.fft.ifft2(new_ft, axes=[0,1]).real\n",
    "    residual_sq = t.Tensor(residual_sq)\n",
    "    residual[:] = einops.rearrange(residual_sq, \"x y seq d_mlp -> (x y) seq d_mlp\")\n",
    "\n",
    "\n",
    "ablate_freqs = functools.partial(freq2d_ablation_hook)\n",
    "ablated_logits = tfm.run_with_hooks(data.tok, fwd_hooks=[\n",
    "                (utils.get_act_name(\"blocks.0.hook_resid_post\"), ablate_freqs)\n",
    "            ])\n",
    "ablated_loss = get_loss(ablated_logits, data.tok, meandim=0) #loss by digit\n",
    "ablated_acc  = get_accuracy(ablated_logits, data.tok, meandim=0)\n",
    "\n",
    "print('Ablating seq_ind 2d frequencies')\n",
    "print(f\"Original loss: {original_loss.detach().numpy()}, Original acc: {100*original_acc.detach().numpy()}%\")\n",
    "print(f\"Ablated loss: {ablated_loss.detach().numpy()}, Ablated acc: {100*ablated_acc.detach().numpy()}%\")"
   ]
  },
  {
   "cell_type": "markdown",
   "metadata": {},
   "source": [
    "## Spectra Plots"
   ]
  },
  {
   "cell_type": "code",
   "execution_count": null,
   "metadata": {},
   "outputs": [],
   "source": [
    "# Make masks\n",
    "posmask = data.tok[:,-2] == 100\n",
    "negmask = data.tok[:,-2] == 101\n",
    "\n",
    "posmask_sq = einops.rearrange(posmask.numpy(), \"(x y) -> x y \", x=100)[:,:,None,None]\n",
    "negmask_sq = einops.rearrange(negmask.numpy(), \"(x y) -> x y \", x=100)[:,:,None,None]\n",
    "print(posmask_sq.shape, posmask.sum(), negmask.sum())"
   ]
  },
  {
   "cell_type": "code",
   "execution_count": null,
   "metadata": {},
   "outputs": [],
   "source": [
    "mask = posmask_sq\n",
    "\n",
    "ft_resid = np.fft.fft2(mask*resid_pre_sq.detach().numpy(), axes=[0,1])\n",
    "power = (np.conj(ft_resid)*ft_resid).sum(axis=-1).real\n",
    "power[power == 0] = 1e-16\n",
    "resid_pre_power = power\n",
    "resid_pre_ft = ft_resid\n",
    "\n",
    "ft_resid = np.fft.fft2(mask*resid_mid_sq.detach().numpy(), axes=[0,1])\n",
    "power = (np.conj(ft_resid)*ft_resid).sum(axis=-1).real\n",
    "power[power == 0] = 1e-16\n",
    "resid_mid_power = power\n",
    "resid_mid_ft = ft_resid\n",
    "\n",
    "ft_resid = np.fft.fft2(mask*resid_post_sq.detach().numpy(), axes=[0,1])\n",
    "power = (np.conj(ft_resid)*ft_resid).sum(axis=-1).real\n",
    "power[power == 0] = 1e-16\n",
    "resid_post_power = power\n",
    "resid_post_ft = ft_resid\n",
    "\n",
    "\n",
    "\n",
    "fig, axs = plt.subplots(2,2, figsize=(16,16))\n",
    "plot = axs[0][0].imshow(np.log10(resid_pre_power)[:,:,0], cmap='plasma', vmin=0, vmax=6)\n",
    "cbar = plt.colorbar(plot, fraction=0.1, orientation='horizontal', location='top')\n",
    "cbar.set_label(r'$\\log_{10}(\\rm{Residual}\\,\\rm{Stream}\\,\\rm{Power})$ (summed over model dimensions)')\n",
    "axs[0][0].set_ylim(-0.5, 99.5)\n",
    "axs[0][0].set_yticks(range(100));\n",
    "axs[0][0].set_yticklabels([f'{freq:.2f}' if np.round(100*freq) % 2 == 1 else '' for freq in freqs], fontsize=7);\n",
    "axs[0][0].set_xticks(range(100));\n",
    "axs[0][0].set_xticklabels([f'{freq:.2f}' if np.round(100*freq) % 2 == 1 else '' for freq in freqs], fontsize=7, rotation='vertical');\n",
    "axs[0][0].set_ylabel('frequency in batch dimension 1 (a varies)')\n",
    "axs[0][0].set_xlabel('frequency in batch dimension 2 (b varies)')\n",
    "axs[0][0].text(0.98, 0.98, f'Residual stream after embedding (sequence position=0)', ha='right', va='top', bbox=bbox_props, transform=axs[0][0].transAxes)\n",
    "\n",
    "\n",
    "plot = axs[0][1].imshow(np.log10(resid_pre_power)[:,:,2], cmap='plasma', vmin=0, vmax=6)\n",
    "cbar = plt.colorbar(plot, fraction=0.1, orientation='horizontal', location='top')\n",
    "cbar.set_label(r'$\\log_{10}(\\rm{Residual}\\,\\rm{Stream}\\,\\rm{Power})$ (summed over model dimensions)')\n",
    "axs[0][1].set_ylim(-0.5, 99.5)\n",
    "axs[0][1].set_yticks(range(100));\n",
    "axs[0][1].set_yticklabels([f'{freq:.2f}' if np.round(100*freq) % 2 == 1 else '' for freq in freqs], fontsize=7);\n",
    "axs[0][1].set_xticks(range(100));\n",
    "axs[0][1].set_xticklabels([f'{freq:.2f}' if np.round(100*freq) % 2 == 1 else '' for freq in freqs], fontsize=7, rotation='vertical');\n",
    "axs[0][1].set_ylabel('frequency in batch dimension 1 (a varies)')\n",
    "axs[0][1].set_xlabel('frequency in batch dimension 2 (b varies)')\n",
    "axs[0][1].text(0.98, 0.98, f'Residual stream after embedding (sequence position=2)', ha='right', va='top', bbox=bbox_props, transform=axs[0][1].transAxes)\n",
    "\n",
    "\n",
    "plot = axs[1][0].imshow(np.log10(resid_mid_power)[:,:,3], cmap='plasma', vmin=0, vmax=6)\n",
    "cbar = plt.colorbar(plot, fraction=0.1, orientation='horizontal', location='top')\n",
    "cbar.set_label(r'$\\log_{10}(\\rm{Residual}\\,\\rm{Stream}\\,\\rm{Power})$ (summed over model dimensions)')\n",
    "axs[1][0].set_ylim(-0.5, 99.5)\n",
    "axs[1][0].set_yticks(range(100));\n",
    "axs[1][0].set_yticklabels([f'{freq:.2f}' if np.round(100*freq) % 2 == 1 else '' for freq in freqs], fontsize=7);\n",
    "axs[1][0].set_xticks(range(100));\n",
    "axs[1][0].set_xticklabels([f'{freq:.2f}' if np.round(100*freq) % 2 == 1 else '' for freq in freqs], fontsize=7, rotation='vertical');\n",
    "axs[1][0].set_ylabel('frequency in batch dimension 1 (a varies)')\n",
    "axs[1][0].set_xlabel('frequency in batch dimension 2 (b varies)')\n",
    "axs[1][0].text(0.98, 0.98, f'Residual stream after attention (sequence position=3)', ha='right', va='top', bbox=bbox_props, transform=axs[1][0].transAxes)\n",
    "\n",
    "\n",
    "plot = axs[1][1].imshow(np.log10(resid_post_power)[:,:,3], cmap='plasma', vmin=4, vmax=10)\n",
    "cbar = plt.colorbar(plot, fraction=0.1, orientation='horizontal', location='top')\n",
    "cbar.set_label(r'$\\log_{10}(\\rm{Residual}\\,\\rm{Stream}\\,\\rm{Power})$ (summed over model dimensions)')\n",
    "axs[1][1].set_ylim(-0.5, 99.5)\n",
    "axs[1][1].set_yticks(range(100));\n",
    "axs[1][1].set_yticklabels([f'{freq:.2f}' if np.round(100*freq) % 2 == 1 else '' for freq in freqs], fontsize=7);\n",
    "axs[1][1].set_xticks(range(100));\n",
    "axs[1][1].set_xticklabels([f'{freq:.2f}' if np.round(100*freq) % 2 == 1 else '' for freq in freqs], fontsize=7, rotation='vertical');\n",
    "axs[1][1].set_ylabel('frequency in batch dimension 1 (a varies)')\n",
    "axs[1][1].set_xlabel('frequency in batch dimension 2 (b varies)')\n",
    "axs[1][1].text(0.98, 0.98, f'Residual stream after MLP (sequence position=3)', ha='right', va='top', bbox=bbox_props, transform=axs[1][1].transAxes)\n",
    "\n",
    "fig.savefig(figdir/'residual_stream_power_spectra_posmask_tokpos03.png', dpi=300)"
   ]
  },
  {
   "cell_type": "code",
   "execution_count": null,
   "metadata": {},
   "outputs": [],
   "source": [
    "mask = negmask_sq\n",
    "\n",
    "ft_resid = np.fft.fft2(mask*resid_pre_sq.detach().numpy(), axes=[0,1])\n",
    "power = (np.conj(ft_resid)*ft_resid).sum(axis=-1).real\n",
    "power[power == 0] = 1e-16\n",
    "resid_pre_power = power\n",
    "resid_pre_ft = ft_resid\n",
    "\n",
    "ft_resid = np.fft.fft2(mask*resid_mid_sq.detach().numpy(), axes=[0,1])\n",
    "power = (np.conj(ft_resid)*ft_resid).sum(axis=-1).real\n",
    "power[power == 0] = 1e-16\n",
    "resid_mid_power = power\n",
    "resid_mid_ft = ft_resid\n",
    "\n",
    "ft_resid = np.fft.fft2(mask*resid_post_sq.detach().numpy(), axes=[0,1])\n",
    "power = (np.conj(ft_resid)*ft_resid).sum(axis=-1).real\n",
    "power[power == 0] = 1e-16\n",
    "resid_post_power = power\n",
    "resid_post_ft = ft_resid\n",
    "\n",
    "\n",
    "\n",
    "fig, axs = plt.subplots(2,2, figsize=(16,16))\n",
    "plot = axs[0][0].imshow(np.log10(resid_pre_power)[:,:,0], cmap='plasma', vmin=0, vmax=6)\n",
    "cbar = plt.colorbar(plot, fraction=0.1, orientation='horizontal', location='top')\n",
    "cbar.set_label(r'$\\log_{10}(\\rm{Residual}\\,\\rm{Stream}\\,\\rm{Power})$ (summed over model dimensions)')\n",
    "axs[0][0].set_ylim(-0.5, 99.5)\n",
    "axs[0][0].set_yticks(range(100));\n",
    "axs[0][0].set_yticklabels([f'{freq:.2f}' if np.round(100*freq) % 2 == 1 else '' for freq in freqs], fontsize=7);\n",
    "axs[0][0].set_xticks(range(100));\n",
    "axs[0][0].set_xticklabels([f'{freq:.2f}' if np.round(100*freq) % 2 == 1 else '' for freq in freqs], fontsize=7, rotation='vertical');\n",
    "axs[0][0].set_ylabel('frequency in batch dimension 1 (a varies)')\n",
    "axs[0][0].set_xlabel('frequency in batch dimension 2 (b varies)')\n",
    "axs[0][0].text(0.98, 0.98, f'Residual stream after embedding (sequence position=0)', ha='right', va='top', bbox=bbox_props, transform=axs[0][0].transAxes)\n",
    "\n",
    "\n",
    "plot = axs[0][1].imshow(np.log10(resid_pre_power)[:,:,2], cmap='plasma', vmin=0, vmax=6)\n",
    "cbar = plt.colorbar(plot, fraction=0.1, orientation='horizontal', location='top')\n",
    "cbar.set_label(r'$\\log_{10}(\\rm{Residual}\\,\\rm{Stream}\\,\\rm{Power})$ (summed over model dimensions)')\n",
    "axs[0][1].set_ylim(-0.5, 99.5)\n",
    "axs[0][1].set_yticks(range(100));\n",
    "axs[0][1].set_yticklabels([f'{freq:.2f}' if np.round(100*freq) % 2 == 1 else '' for freq in freqs], fontsize=7);\n",
    "axs[0][1].set_xticks(range(100));\n",
    "axs[0][1].set_xticklabels([f'{freq:.2f}' if np.round(100*freq) % 2 == 1 else '' for freq in freqs], fontsize=7, rotation='vertical');\n",
    "axs[0][1].set_ylabel('frequency in batch dimension 1 (a varies)')\n",
    "axs[0][1].set_xlabel('frequency in batch dimension 2 (b varies)')\n",
    "axs[0][1].text(0.98, 0.98, f'Residual stream after embedding (sequence position=2)', ha='right', va='top', bbox=bbox_props, transform=axs[0][1].transAxes)\n",
    "\n",
    "\n",
    "plot = axs[1][0].imshow(np.log10(resid_mid_power)[:,:,3], cmap='plasma', vmin=0, vmax=6)\n",
    "cbar = plt.colorbar(plot, fraction=0.1, orientation='horizontal', location='top')\n",
    "cbar.set_label(r'$\\log_{10}(\\rm{Residual}\\,\\rm{Stream}\\,\\rm{Power})$ (summed over model dimensions)')\n",
    "axs[1][0].set_ylim(-0.5, 99.5)\n",
    "axs[1][0].set_yticks(range(100));\n",
    "axs[1][0].set_yticklabels([f'{freq:.2f}' if np.round(100*freq) % 2 == 1 else '' for freq in freqs], fontsize=7);\n",
    "axs[1][0].set_xticks(range(100));\n",
    "axs[1][0].set_xticklabels([f'{freq:.2f}' if np.round(100*freq) % 2 == 1 else '' for freq in freqs], fontsize=7, rotation='vertical');\n",
    "axs[1][0].set_ylabel('frequency in batch dimension 1 (a varies)')\n",
    "axs[1][0].set_xlabel('frequency in batch dimension 2 (b varies)')\n",
    "axs[1][0].text(0.98, 0.98, f'Residual stream after attention (sequence position=3)', ha='right', va='top', bbox=bbox_props, transform=axs[1][0].transAxes)\n",
    "\n",
    "\n",
    "plot = axs[1][1].imshow(np.log10(resid_post_power)[:,:,3], cmap='plasma', vmin=4, vmax=10)\n",
    "cbar = plt.colorbar(plot, fraction=0.1, orientation='horizontal', location='top')\n",
    "cbar.set_label(r'$\\log_{10}(\\rm{Residual}\\,\\rm{Stream}\\,\\rm{Power})$ (summed over model dimensions)')\n",
    "axs[1][1].set_ylim(-0.5, 99.5)\n",
    "axs[1][1].set_yticks(range(100));\n",
    "axs[1][1].set_yticklabels([f'{freq:.2f}' if np.round(100*freq) % 2 == 1 else '' for freq in freqs], fontsize=7);\n",
    "axs[1][1].set_xticks(range(100));\n",
    "axs[1][1].set_xticklabels([f'{freq:.2f}' if np.round(100*freq) % 2 == 1 else '' for freq in freqs], fontsize=7, rotation='vertical');\n",
    "axs[1][1].set_ylabel('frequency in batch dimension 1 (a varies)')\n",
    "axs[1][1].set_xlabel('frequency in batch dimension 2 (b varies)')\n",
    "axs[1][1].text(0.98, 0.98, f'Residual stream after MLP (sequence position=3)', ha='right', va='top', bbox=bbox_props, transform=axs[1][1].transAxes)\n",
    "\n",
    "fig.savefig(figdir/'residual_stream_power_spectra_negmask_tokpos03.png', dpi=300)"
   ]
  },
  {
   "cell_type": "code",
   "execution_count": null,
   "metadata": {},
   "outputs": [],
   "source": [
    "mask = 1\n",
    "\n",
    "ft_resid = np.fft.fft2(mask*resid_pre_sq.detach().numpy(), axes=[0,1])\n",
    "power = (np.conj(ft_resid)*ft_resid).sum(axis=-1).real\n",
    "power[power == 0] = 1e-16\n",
    "resid_pre_power = power\n",
    "resid_pre_ft = ft_resid\n",
    "\n",
    "ft_resid = np.fft.fft2(mask*resid_mid_sq.detach().numpy(), axes=[0,1])\n",
    "power = (np.conj(ft_resid)*ft_resid).sum(axis=-1).real\n",
    "power[power == 0] = 1e-16\n",
    "resid_mid_power = power\n",
    "resid_mid_ft = ft_resid\n",
    "\n",
    "ft_resid = np.fft.fft2(mask*resid_post_sq.detach().numpy(), axes=[0,1])\n",
    "power = (np.conj(ft_resid)*ft_resid).sum(axis=-1).real\n",
    "power[power == 0] = 1e-16\n",
    "resid_post_power = power\n",
    "resid_post_ft = ft_resid\n",
    "\n",
    "\n",
    "\n",
    "fig, axs = plt.subplots(2,2, figsize=(16,16))\n",
    "plot = axs[0][0].imshow(np.log10(resid_pre_power)[:,:,0], cmap='plasma', vmin=0, vmax=6)\n",
    "cbar = plt.colorbar(plot, fraction=0.1, orientation='horizontal', location='top')\n",
    "cbar.set_label(r'$\\log_{10}(\\rm{Residual}\\,\\rm{Stream}\\,\\rm{Power})$ (summed over model dimensions)')\n",
    "axs[0][0].set_ylim(-0.5, 99.5)\n",
    "axs[0][0].set_yticks(range(100));\n",
    "axs[0][0].set_yticklabels([f'{freq:.2f}' if np.round(100*freq) % 2 == 1 else '' for freq in freqs], fontsize=7);\n",
    "axs[0][0].set_xticks(range(100));\n",
    "axs[0][0].set_xticklabels([f'{freq:.2f}' if np.round(100*freq) % 2 == 1 else '' for freq in freqs], fontsize=7, rotation='vertical');\n",
    "axs[0][0].set_ylabel('frequency in batch dimension 1 (a varies)')\n",
    "axs[0][0].set_xlabel('frequency in batch dimension 2 (b varies)')\n",
    "axs[0][0].text(0.98, 0.98, f'Residual stream after embedding (sequence position=0)', ha='right', va='top', bbox=bbox_props, transform=axs[0][0].transAxes)\n",
    "\n",
    "\n",
    "plot = axs[0][1].imshow(np.log10(resid_pre_power)[:,:,2], cmap='plasma', vmin=0, vmax=6)\n",
    "cbar = plt.colorbar(plot, fraction=0.1, orientation='horizontal', location='top')\n",
    "cbar.set_label(r'$\\log_{10}(\\rm{Residual}\\,\\rm{Stream}\\,\\rm{Power})$ (summed over model dimensions)')\n",
    "axs[0][1].set_ylim(-0.5, 99.5)\n",
    "axs[0][1].set_yticks(range(100));\n",
    "axs[0][1].set_yticklabels([f'{freq:.2f}' if np.round(100*freq) % 2 == 1 else '' for freq in freqs], fontsize=7);\n",
    "axs[0][1].set_xticks(range(100));\n",
    "axs[0][1].set_xticklabels([f'{freq:.2f}' if np.round(100*freq) % 2 == 1 else '' for freq in freqs], fontsize=7, rotation='vertical');\n",
    "axs[0][1].set_ylabel('frequency in batch dimension 1 (a varies)')\n",
    "axs[0][1].set_xlabel('frequency in batch dimension 2 (b varies)')\n",
    "axs[0][1].text(0.98, 0.98, f'Residual stream after embedding (sequence position=2)', ha='right', va='top', bbox=bbox_props, transform=axs[0][1].transAxes)\n",
    "\n",
    "\n",
    "plot = axs[1][0].imshow(np.log10(resid_mid_power)[:,:,3], cmap='plasma', vmin=0, vmax=6)\n",
    "cbar = plt.colorbar(plot, fraction=0.1, orientation='horizontal', location='top')\n",
    "cbar.set_label(r'$\\log_{10}(\\rm{Residual}\\,\\rm{Stream}\\,\\rm{Power})$ (summed over model dimensions)')\n",
    "axs[1][0].set_ylim(-0.5, 99.5)\n",
    "axs[1][0].set_yticks(range(100));\n",
    "axs[1][0].set_yticklabels([f'{freq:.2f}' if np.round(100*freq) % 2 == 1 else '' for freq in freqs], fontsize=7);\n",
    "axs[1][0].set_xticks(range(100));\n",
    "axs[1][0].set_xticklabels([f'{freq:.2f}' if np.round(100*freq) % 2 == 1 else '' for freq in freqs], fontsize=7, rotation='vertical');\n",
    "axs[1][0].set_ylabel('frequency in batch dimension 1 (a varies)')\n",
    "axs[1][0].set_xlabel('frequency in batch dimension 2 (b varies)')\n",
    "axs[1][0].text(0.98, 0.98, f'Residual stream after attention (sequence position=3)', ha='right', va='top', bbox=bbox_props, transform=axs[1][0].transAxes)\n",
    "\n",
    "\n",
    "plot = axs[1][1].imshow(np.log10(resid_post_power)[:,:,3], cmap='plasma', vmin=4, vmax=10)\n",
    "cbar = plt.colorbar(plot, fraction=0.1, orientation='horizontal', location='top')\n",
    "cbar.set_label(r'$\\log_{10}(\\rm{Residual}\\,\\rm{Stream}\\,\\rm{Power})$ (summed over model dimensions)')\n",
    "axs[1][1].set_ylim(-0.5, 99.5)\n",
    "axs[1][1].set_yticks(range(100));\n",
    "axs[1][1].set_yticklabels([f'{freq:.2f}' if np.round(100*freq) % 2 == 1 else '' for freq in freqs], fontsize=7);\n",
    "axs[1][1].set_xticks(range(100));\n",
    "axs[1][1].set_xticklabels([f'{freq:.2f}' if np.round(100*freq) % 2 == 1 else '' for freq in freqs], fontsize=7, rotation='vertical');\n",
    "axs[1][1].set_ylabel('frequency in batch dimension 1 (a varies)')\n",
    "axs[1][1].set_xlabel('frequency in batch dimension 2 (b varies)')\n",
    "axs[1][1].text(0.98, 0.98, f'Residual stream after MLP (sequence position=3)', ha='right', va='top', bbox=bbox_props, transform=axs[1][1].transAxes)\n",
    "\n",
    "fig.savefig(figdir/'residual_stream_power_spectra_nomask_tokpos03.png', dpi=300)"
   ]
  },
  {
   "cell_type": "code",
   "execution_count": null,
   "metadata": {},
   "outputs": [],
   "source": [
    "fig, axs = plt.subplots(1,3, figsize=(12,4))\n",
    "for ax in axs:\n",
    "    ax.set_prop_cycle('color', palettable.colorbrewer.qualitative.Dark2_8.mpl_colors)\n",
    "good = freqs >= 0\n",
    "\n",
    "for ax, offset in zip(axs, [2e3, 6e3, 2.7e5]):\n",
    "    ax.plot(freqs[good], offset*(0.01/freqs[good]))\n",
    "axs[0].text(0.85, 0.05, '$f^{-1}$', fontsize=14, ha='right', va='bottom', transform=axs[0].transAxes, color= palettable.colorbrewer.qualitative.Dark2_8.mpl_colors[0])\n",
    "\n",
    "axs[0].loglog(freqs[good], np.sqrt(resid_pre_power[:,0,0][good]), label = r'$f_{\\rm a} = 0$; pos 0')\n",
    "axs[0].loglog(freqs[good], np.sqrt(resid_pre_power[0,:,2][good]), label = r'$f_{\\rm b} = 0$; pos 2', ls='--')\n",
    "axs[1].loglog(freqs[good], np.sqrt(resid_mid_power[:,0,3][good]), label = r'$f_{\\rm a} = 0$; pos 3')\n",
    "axs[2].loglog(freqs[good], np.sqrt(resid_post_power[:,0,3][good]), label = r'$f_{\\rm a} = 0$; pos 3')\n",
    "\n",
    "\n",
    "\n",
    "\n",
    "for ax in axs:\n",
    "    ax.legend()\n",
    "    ax.set_xlabel('frequency')\n",
    "axs[0].set_ylabel('power')\n",
    "fig.savefig(figdir/'sliced_power.png', bbox_inches='tight', dpi=300)"
   ]
  }
 ],
 "metadata": {
  "colab": {
   "provenance": []
  },
  "kernelspec": {
   "display_name": "Python 3 (ipykernel)",
   "language": "python",
   "name": "python3"
  },
  "language_info": {
   "codemirror_mode": {
    "name": "ipython",
    "version": 3
   },
   "file_extension": ".py",
   "mimetype": "text/x-python",
   "name": "python",
   "nbconvert_exporter": "python",
   "pygments_lexer": "ipython3",
   "version": "3.12.0"
  },
  "widgets": {
   "application/vnd.jupyter.widget-state+json": {
    "3a09c7ec5f444a5cb6038c5f624f1f20": {
     "model_module": "@jupyter-widgets/base",
     "model_module_version": "1.2.0",
     "model_name": "LayoutModel",
     "state": {
      "_model_module": "@jupyter-widgets/base",
      "_model_module_version": "1.2.0",
      "_model_name": "LayoutModel",
      "_view_count": null,
      "_view_module": "@jupyter-widgets/base",
      "_view_module_version": "1.2.0",
      "_view_name": "LayoutView",
      "align_content": null,
      "align_items": null,
      "align_self": null,
      "border": null,
      "bottom": null,
      "display": null,
      "flex": null,
      "flex_flow": null,
      "grid_area": null,
      "grid_auto_columns": null,
      "grid_auto_flow": null,
      "grid_auto_rows": null,
      "grid_column": null,
      "grid_gap": null,
      "grid_row": null,
      "grid_template_areas": null,
      "grid_template_columns": null,
      "grid_template_rows": null,
      "height": null,
      "justify_content": null,
      "justify_items": null,
      "left": null,
      "margin": null,
      "max_height": null,
      "max_width": null,
      "min_height": null,
      "min_width": null,
      "object_fit": null,
      "object_position": null,
      "order": null,
      "overflow": null,
      "overflow_x": null,
      "overflow_y": null,
      "padding": null,
      "right": null,
      "top": null,
      "visibility": null,
      "width": null
     }
    },
    "41a25f8a60024d83acac31bd413417b9": {
     "model_module": "@jupyter-widgets/controls",
     "model_module_version": "1.5.0",
     "model_name": "IntTextModel",
     "state": {
      "_dom_classes": [],
      "_model_module": "@jupyter-widgets/controls",
      "_model_module_version": "1.5.0",
      "_model_name": "IntTextModel",
      "_view_count": null,
      "_view_module": "@jupyter-widgets/controls",
      "_view_module_version": "1.5.0",
      "_view_name": "IntTextView",
      "continuous_update": false,
      "description": "head:",
      "description_tooltip": null,
      "disabled": false,
      "layout": "IPY_MODEL_b79e51961166432d84041735585873dd",
      "step": 1,
      "style": "IPY_MODEL_a0953cb58c1f46cf85aa1f9077a0207f",
      "value": 0
     }
    },
    "43fc8965959f4ad187a76dad12f4313b": {
     "model_module": "@jupyter-widgets/controls",
     "model_module_version": "1.5.0",
     "model_name": "VBoxModel",
     "state": {
      "_dom_classes": [
       "widget-interact"
      ],
      "_model_module": "@jupyter-widgets/controls",
      "_model_module_version": "1.5.0",
      "_model_name": "VBoxModel",
      "_view_count": null,
      "_view_module": "@jupyter-widgets/controls",
      "_view_module_version": "1.5.0",
      "_view_name": "VBoxView",
      "box_style": "",
      "children": [
       "IPY_MODEL_d350255eb6f1491b806380b251383ece",
       "IPY_MODEL_b79b9838c9fa45bba20435e198af68d0",
       "IPY_MODEL_41a25f8a60024d83acac31bd413417b9",
       "IPY_MODEL_7e99c7c3c9a841aa8224215affdbff7a"
      ],
      "layout": "IPY_MODEL_d1e8772e76af442fa94d87ecf59d1602"
     }
    },
    "7a4d51f7fcf94aed849774a5b7366553": {
     "model_module": "@jupyter-widgets/controls",
     "model_module_version": "1.5.0",
     "model_name": "DescriptionStyleModel",
     "state": {
      "_model_module": "@jupyter-widgets/controls",
      "_model_module_version": "1.5.0",
      "_model_name": "DescriptionStyleModel",
      "_view_count": null,
      "_view_module": "@jupyter-widgets/base",
      "_view_module_version": "1.2.0",
      "_view_name": "StyleView",
      "description_width": ""
     }
    },
    "7e99c7c3c9a841aa8224215affdbff7a": {
     "model_module": "@jupyter-widgets/output",
     "model_module_version": "1.0.0",
     "model_name": "OutputModel",
     "state": {
      "_dom_classes": [],
      "_model_module": "@jupyter-widgets/output",
      "_model_module_version": "1.0.0",
      "_model_name": "OutputModel",
      "_view_count": null,
      "_view_module": "@jupyter-widgets/output",
      "_view_module_version": "1.0.0",
      "_view_name": "OutputView",
      "layout": "IPY_MODEL_ccb843f791eb4ca7a8ec06e114c366a1",
      "msg_id": "",
      "outputs": [
       {
        "name": "stdout",
        "output_type": "stream",
        "text": [
         "['11324-14344=-03020']\n",
         "1 1 3 2 4 - 1 4 3 4 4 = - 0 3 0 2 0\n",
         "layer 0 head 0\n",
         "[0.1  0.07 0.07 0.06 0.08 0.07 0.1  0.08 0.06 0.07 0.08 0.07 0.08 0.\n",
         " 0.   0.   0.   0.  ]\n",
         "[0.05 0.07 0.07 0.07 0.09 0.08 0.05 0.06 0.06 0.06 0.08 0.08 0.11 0.06\n",
         " 0.   0.   0.   0.  ]\n",
         "[0.05 0.06 0.07 0.07 0.09 0.08 0.05 0.05 0.06 0.06 0.08 0.08 0.11 0.05\n",
         " 0.05 0.   0.   0.  ]\n",
         "[0.04 0.05 0.06 0.07 0.1  0.08 0.04 0.05 0.05 0.06 0.08 0.07 0.13 0.04\n",
         " 0.04 0.04 0.   0.  ]\n",
         "[0.05 0.06 0.06 0.06 0.06 0.06 0.05 0.05 0.06 0.06 0.06 0.06 0.07 0.06\n",
         " 0.05 0.06 0.06 0.  ]\n",
         "torch.Size([18, 18]) torch.Size([18, 14]) torch.Size([18, 14])\n"
        ]
       },
       {
        "data": {
         "image/png": "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\n",
         "text/plain": "<Figure size 1500x500 with 6 Axes>"
        },
        "metadata": {},
        "output_type": "display_data"
       }
      ]
     }
    },
    "a0953cb58c1f46cf85aa1f9077a0207f": {
     "model_module": "@jupyter-widgets/controls",
     "model_module_version": "1.5.0",
     "model_name": "DescriptionStyleModel",
     "state": {
      "_model_module": "@jupyter-widgets/controls",
      "_model_module_version": "1.5.0",
      "_model_name": "DescriptionStyleModel",
      "_view_count": null,
      "_view_module": "@jupyter-widgets/base",
      "_view_module_version": "1.2.0",
      "_view_name": "StyleView",
      "description_width": ""
     }
    },
    "ac5ea53c16a446be83e28e03f4ea4eb4": {
     "model_module": "@jupyter-widgets/base",
     "model_module_version": "1.2.0",
     "model_name": "LayoutModel",
     "state": {
      "_model_module": "@jupyter-widgets/base",
      "_model_module_version": "1.2.0",
      "_model_name": "LayoutModel",
      "_view_count": null,
      "_view_module": "@jupyter-widgets/base",
      "_view_module_version": "1.2.0",
      "_view_name": "LayoutView",
      "align_content": null,
      "align_items": null,
      "align_self": null,
      "border": null,
      "bottom": null,
      "display": null,
      "flex": null,
      "flex_flow": null,
      "grid_area": null,
      "grid_auto_columns": null,
      "grid_auto_flow": null,
      "grid_auto_rows": null,
      "grid_column": null,
      "grid_gap": null,
      "grid_row": null,
      "grid_template_areas": null,
      "grid_template_columns": null,
      "grid_template_rows": null,
      "height": null,
      "justify_content": null,
      "justify_items": null,
      "left": null,
      "margin": null,
      "max_height": null,
      "max_width": null,
      "min_height": null,
      "min_width": null,
      "object_fit": null,
      "object_position": null,
      "order": null,
      "overflow": null,
      "overflow_x": null,
      "overflow_y": null,
      "padding": null,
      "right": null,
      "top": null,
      "visibility": null,
      "width": null
     }
    },
    "b0ebfddad1364315a2f7fcc5498117ae": {
     "model_module": "@jupyter-widgets/controls",
     "model_module_version": "1.5.0",
     "model_name": "DescriptionStyleModel",
     "state": {
      "_model_module": "@jupyter-widgets/controls",
      "_model_module_version": "1.5.0",
      "_model_name": "DescriptionStyleModel",
      "_view_count": null,
      "_view_module": "@jupyter-widgets/base",
      "_view_module_version": "1.2.0",
      "_view_name": "StyleView",
      "description_width": ""
     }
    },
    "b79b9838c9fa45bba20435e198af68d0": {
     "model_module": "@jupyter-widgets/controls",
     "model_module_version": "1.5.0",
     "model_name": "IntTextModel",
     "state": {
      "_dom_classes": [],
      "_model_module": "@jupyter-widgets/controls",
      "_model_module_version": "1.5.0",
      "_model_name": "IntTextModel",
      "_view_count": null,
      "_view_module": "@jupyter-widgets/controls",
      "_view_module_version": "1.5.0",
      "_view_name": "IntTextView",
      "continuous_update": false,
      "description": "Number B:",
      "description_tooltip": null,
      "disabled": false,
      "layout": "IPY_MODEL_ac5ea53c16a446be83e28e03f4ea4eb4",
      "step": 1,
      "style": "IPY_MODEL_7a4d51f7fcf94aed849774a5b7366553",
      "value": 14344
     }
    },
    "b79e51961166432d84041735585873dd": {
     "model_module": "@jupyter-widgets/base",
     "model_module_version": "1.2.0",
     "model_name": "LayoutModel",
     "state": {
      "_model_module": "@jupyter-widgets/base",
      "_model_module_version": "1.2.0",
      "_model_name": "LayoutModel",
      "_view_count": null,
      "_view_module": "@jupyter-widgets/base",
      "_view_module_version": "1.2.0",
      "_view_name": "LayoutView",
      "align_content": null,
      "align_items": null,
      "align_self": null,
      "border": null,
      "bottom": null,
      "display": null,
      "flex": null,
      "flex_flow": null,
      "grid_area": null,
      "grid_auto_columns": null,
      "grid_auto_flow": null,
      "grid_auto_rows": null,
      "grid_column": null,
      "grid_gap": null,
      "grid_row": null,
      "grid_template_areas": null,
      "grid_template_columns": null,
      "grid_template_rows": null,
      "height": null,
      "justify_content": null,
      "justify_items": null,
      "left": null,
      "margin": null,
      "max_height": null,
      "max_width": null,
      "min_height": null,
      "min_width": null,
      "object_fit": null,
      "object_position": null,
      "order": null,
      "overflow": null,
      "overflow_x": null,
      "overflow_y": null,
      "padding": null,
      "right": null,
      "top": null,
      "visibility": null,
      "width": null
     }
    },
    "ccb843f791eb4ca7a8ec06e114c366a1": {
     "model_module": "@jupyter-widgets/base",
     "model_module_version": "1.2.0",
     "model_name": "LayoutModel",
     "state": {
      "_model_module": "@jupyter-widgets/base",
      "_model_module_version": "1.2.0",
      "_model_name": "LayoutModel",
      "_view_count": null,
      "_view_module": "@jupyter-widgets/base",
      "_view_module_version": "1.2.0",
      "_view_name": "LayoutView",
      "align_content": null,
      "align_items": null,
      "align_self": null,
      "border": null,
      "bottom": null,
      "display": null,
      "flex": null,
      "flex_flow": null,
      "grid_area": null,
      "grid_auto_columns": null,
      "grid_auto_flow": null,
      "grid_auto_rows": null,
      "grid_column": null,
      "grid_gap": null,
      "grid_row": null,
      "grid_template_areas": null,
      "grid_template_columns": null,
      "grid_template_rows": null,
      "height": null,
      "justify_content": null,
      "justify_items": null,
      "left": null,
      "margin": null,
      "max_height": null,
      "max_width": null,
      "min_height": null,
      "min_width": null,
      "object_fit": null,
      "object_position": null,
      "order": null,
      "overflow": null,
      "overflow_x": null,
      "overflow_y": null,
      "padding": null,
      "right": null,
      "top": null,
      "visibility": null,
      "width": null
     }
    },
    "d1e8772e76af442fa94d87ecf59d1602": {
     "model_module": "@jupyter-widgets/base",
     "model_module_version": "1.2.0",
     "model_name": "LayoutModel",
     "state": {
      "_model_module": "@jupyter-widgets/base",
      "_model_module_version": "1.2.0",
      "_model_name": "LayoutModel",
      "_view_count": null,
      "_view_module": "@jupyter-widgets/base",
      "_view_module_version": "1.2.0",
      "_view_name": "LayoutView",
      "align_content": null,
      "align_items": null,
      "align_self": null,
      "border": null,
      "bottom": null,
      "display": null,
      "flex": null,
      "flex_flow": null,
      "grid_area": null,
      "grid_auto_columns": null,
      "grid_auto_flow": null,
      "grid_auto_rows": null,
      "grid_column": null,
      "grid_gap": null,
      "grid_row": null,
      "grid_template_areas": null,
      "grid_template_columns": null,
      "grid_template_rows": null,
      "height": null,
      "justify_content": null,
      "justify_items": null,
      "left": null,
      "margin": null,
      "max_height": null,
      "max_width": null,
      "min_height": null,
      "min_width": null,
      "object_fit": null,
      "object_position": null,
      "order": null,
      "overflow": null,
      "overflow_x": null,
      "overflow_y": null,
      "padding": null,
      "right": null,
      "top": null,
      "visibility": null,
      "width": null
     }
    },
    "d350255eb6f1491b806380b251383ece": {
     "model_module": "@jupyter-widgets/controls",
     "model_module_version": "1.5.0",
     "model_name": "IntTextModel",
     "state": {
      "_dom_classes": [],
      "_model_module": "@jupyter-widgets/controls",
      "_model_module_version": "1.5.0",
      "_model_name": "IntTextModel",
      "_view_count": null,
      "_view_module": "@jupyter-widgets/controls",
      "_view_module_version": "1.5.0",
      "_view_name": "IntTextView",
      "continuous_update": false,
      "description": "Number A:",
      "description_tooltip": null,
      "disabled": false,
      "layout": "IPY_MODEL_3a09c7ec5f444a5cb6038c5f624f1f20",
      "step": 1,
      "style": "IPY_MODEL_b0ebfddad1364315a2f7fcc5498117ae",
      "value": 11324
     }
    }
   }
  }
 },
 "nbformat": 4,
 "nbformat_minor": 4
}
